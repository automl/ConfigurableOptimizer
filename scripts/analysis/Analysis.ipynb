{
 "cells": [
  {
   "cell_type": "code",
   "execution_count": null,
   "metadata": {},
   "outputs": [],
   "source": [
    "from wandb_utils import (\n",
    "    make_wandb_filters,\n",
    "    fetch_runs,\n",
    "    get_normalized_arch_values_by_edge,\n",
    "    get_normalized_arch_values_by_op,\n",
    "    get_cell_grad_norm,\n",
    "    get_arch_param_grad_norm,\n",
    "    get_arch_param_grad_norm_by_edge,\n",
    "    get_skip_connections,\n",
    "    get_mean_gradient_matching_score,\n",
    "    get_benchmark_test_acc,\n",
    "    get_layer_alignment_scores_all_cells,\n",
    "    get_layer_alignment_scores_first_and_last_cells,\n",
    ")\n",
    "\n",
    "import matplotlib.pyplot as plt"
   ]
  },
  {
   "cell_type": "code",
   "execution_count": null,
   "metadata": {},
   "outputs": [],
   "source": [
    "filters = make_wandb_filters(\n",
    "    state=\"finished\",\n",
    "    meta_info=\"'DrNAS-Baseline'\",\n",
    "    # lora_rank=0,\n",
    "    # lora_warmup=16,\n",
    "    # oles=True,\n",
    "    # oles_threshold=0.3,\n",
    "    # seed=0,\n",
    ")\n",
    "\n",
    "print(filters)\n",
    "\n",
    "runs = fetch_runs(filters)\n",
    "\n",
    "print(f\"Found {len(runs)} runs\")\n",
    "\n",
    "runs = sorted(runs, key=lambda run: run.name)\n",
    "\n",
    "for run in runs:\n",
    "    print(run.name)"
   ]
  },
  {
   "cell_type": "code",
   "execution_count": null,
   "metadata": {},
   "outputs": [],
   "source": [
    "df = run.history()\n",
    "df.head()"
   ]
  },
  {
   "cell_type": "code",
   "execution_count": null,
   "metadata": {},
   "outputs": [],
   "source": [
    "def plot_line_chart(df):\n",
    "    # Plotting the line chart\n",
    "    plt.figure(figsize=(10, 6))  # Set the figure size\n",
    "\n",
    "    # Plot each column as a separate line\n",
    "    for column in df.columns:\n",
    "        plt.plot(df.index, df[column], label=column, linewidth=2)  # Customize line width\n",
    "\n",
    "    # Add chart title and labels\n",
    "    plt.title(\"Beautiful Line Chart\", fontsize=16)\n",
    "    plt.xlabel(\"Index\", fontsize=12)\n",
    "    plt.ylabel(\"Values\", fontsize=12)\n",
    "\n",
    "    # Customize ticks on the x and y axes\n",
    "    plt.xticks(fontsize=10)\n",
    "    plt.yticks(fontsize=10)\n",
    "\n",
    "    # Add a legend to identify different columns\n",
    "    plt.legend(title=\"Columns\", fontsize=10, title_fontsize=12)\n",
    "\n",
    "    # Add a grid for better readability\n",
    "    plt.grid(True, which='both', linestyle='--', linewidth=0.5)\n",
    "\n",
    "    # Display the chart\n",
    "    plt.tight_layout()  # Adjust layout for better spacing\n",
    "    plt.show()\n",
    "\n",
    "\n"
   ]
  },
  {
   "cell_type": "code",
   "execution_count": null,
   "metadata": {},
   "outputs": [],
   "source": [
    "new_df = get_cell_grad_norm(df, 4)\n",
    "plot_line_chart(new_df)"
   ]
  },
  {
   "cell_type": "code",
   "execution_count": null,
   "metadata": {},
   "outputs": [],
   "source": [
    "dfs = [get_cell_grad_norm(df, idx) for idx in range(8)]\n",
    "cell_grads_df = pd.concat(dfs, axis=1)\n",
    "plot_line_chart(cell_grads_df)"
   ]
  },
  {
   "cell_type": "code",
   "execution_count": null,
   "metadata": {},
   "outputs": [],
   "source": [
    "dfs = [get_arch_param_grad_norm(df, idx) for idx in (\"normal\", \"reduce\")]\n",
    "cell_grads_df = pd.concat(dfs, axis=1)\n",
    "plot_line_chart(cell_grads_df)\n"
   ]
  },
  {
   "cell_type": "code",
   "execution_count": null,
   "metadata": {},
   "outputs": [],
   "source": [
    "dfs = [get_skip_connections(df, idx) for idx in (\"normal\", \"reduce\")]\n",
    "cell_grads_df = pd.concat(dfs, axis=1)\n",
    "plot_line_chart(cell_grads_df)"
   ]
  },
  {
   "cell_type": "code",
   "execution_count": null,
   "metadata": {},
   "outputs": [],
   "source": [
    "dfs = [get_mean_gradient_matching_score(df)]\n",
    "cell_grads_df = pd.concat(dfs, axis=1)\n",
    "plot_line_chart(cell_grads_df)"
   ]
  },
  {
   "cell_type": "code",
   "execution_count": null,
   "metadata": {},
   "outputs": [],
   "source": [
    "# # pd.concat(get_normalized_arch_values_by_op(df, \"reduce\", 5)), axis=1)\n",
    "# dfs = [get_normalized_arch_values_by_edge(df, \"normal\", idx) for idx in range(8)]\n",
    "# cell_grads_df = pd.concat(dfs, axis=1)\n",
    "# plot_line_chart(cell_grads_df)"
   ]
  },
  {
   "cell_type": "code",
   "execution_count": null,
   "metadata": {},
   "outputs": [],
   "source": [
    "plot_line_chart(get_layer_alignment_scores_all_cells(df, \"reduce\"))\n",
    "plot_line_chart(get_layer_alignment_scores_first_and_last_cell(df, \"reduce\"))\n"
   ]
  },
  {
   "cell_type": "code",
   "execution_count": null,
   "metadata": {},
   "outputs": [],
   "source": []
  }
 ],
 "metadata": {
  "kernelspec": {
   "display_name": "confopt",
   "language": "python",
   "name": "python3"
  },
  "language_info": {
   "codemirror_mode": {
    "name": "ipython",
    "version": 3
   },
   "file_extension": ".py",
   "mimetype": "text/x-python",
   "name": "python",
   "nbconvert_exporter": "python",
   "pygments_lexer": "ipython3",
   "version": "3.9.18"
  }
 },
 "nbformat": 4,
 "nbformat_minor": 2
}
