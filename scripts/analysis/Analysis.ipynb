{
 "cells": [
  {
   "cell_type": "code",
   "execution_count": null,
   "metadata": {},
   "outputs": [],
   "source": [
    "from wandb_utils import (\n",
    "    get_normalized_arch_values_by_edge_df,\n",
    "    get_normalized_arch_values_by_op_df,\n",
    "    get_cell_grad_norm_df,\n",
    "    get_arch_param_grad_norm_df,\n",
    "    get_arch_param_grad_norm_by_edge_df,\n",
    "    get_skip_connections_df,\n",
    "    get_mean_gradient_matching_score_df,\n",
    "    get_benchmark_test_acc_df,\n",
    "    get_layer_alignment_scores_all_cells_df,\n",
    "    get_layer_alignment_scores_first_and_last_cells_df,\n",
    "    get_wandb_runs_as_dfs,\n",
    ")\n",
    "\n",
    "from df_utils import (\n",
    "    calculate_mean_std,\n",
    "    clean_dfs,\n",
    ")\n",
    "\n",
    "from plot_utils import (\n",
    "    plot_everything,\n",
    "    plot_line_chart_with_std_dev,\n",
    ")\n",
    "\n",
    "import numpy as np\n",
    "import pandas as pd\n",
    "import matplotlib.pyplot as plt"
   ]
  },
  {
   "cell_type": "code",
   "execution_count": null,
   "metadata": {},
   "outputs": [],
   "source": [
    "meta_infos = {\n",
    "    # DARTS\n",
    "    0:\"'DARTS-Baseline'\",\n",
    "    1:\"DARTS-OLES-Threshold-Ablation\",\n",
    "    2:\"DARTS-LoRA-Rank-Ablation\",\n",
    "    3:\"DARTS-LoRA-Warmup-Ablation\",\n",
    "\n",
    "    # DARTS with pruning at 50%\n",
    "    4:\"'DARTS-Prune-Baseline'\",\n",
    "    5:\"DARTS-Prune-LoRA-Rank-Ablation\",\n",
    "    6:\"DARTS-Prune-LoRA-Warmup-Ablation\",\n",
    "\n",
    "    # DrNAS with partial connections (k=6), pruning at 50%, 8 cells, 36 initial channels, regularization term\n",
    "    7:\"'DrNAS-Baseline'\",\n",
    "    8:\"DrNAS-OLES-Threshold-Ablation\",\n",
    "    9:\"DrNAS-LoRA-Rank-Ablation\",\n",
    "    10:\"DrNAS-LoRA-Warmup-Ablation\",\n",
    "\n",
    "    # DrNAS without progressive learning (no partial connections, no pruning, 8 cells, init channels 16, regularization term)\n",
    "    11:\"'DrNAS-Baseline-Basic'\",\n",
    "    12:\"DrNAS-OLES-Threshold-Ablation\",\n",
    "    13:\"DrNAS-LoRA-Rank-Ablation-Basic\",\n",
    "    14:\"DrNAS-LoRA-Warmup-Ablation-Baic\",\n",
    "}"
   ]
  },
  {
   "cell_type": "code",
   "execution_count": null,
   "metadata": {},
   "outputs": [],
   "source": [
    "# Get the runs using the wansb filters\n",
    "# The most convenient filter to use is \"meta_info\", which is shown in Wandb as extra:meta-info.\n",
    "# See the experiments sheet for the meta_info values\n",
    "dfs = get_wandb_runs_as_dfs(\n",
    "    state=\"finished\",\n",
    "    meta_info=meta_infos[3],\n",
    "    lora_rank=1,\n",
    "    lora_warmup=8,\n",
    "    # oles=True,\n",
    "    # oles_threshold=0.3,\n",
    "    # seed=0,\n",
    ")\n",
    "\n",
    "# Every df summarizes one run\n",
    "# Clean them first - remove columns with all NaNs and other non-numerical values\n",
    "dfs = clean_dfs(dfs)\n",
    "\n",
    "# Now we can calculate the mean and std of the dfs\n",
    "mean_df, std_df = calculate_mean_std(*dfs)\n",
    "mean_df.shape, std_df.shape\n",
    "\n",
    "# Now we can plot the data\n",
    "plot_everything(mean_df, std_df, meta_infos[3], 15)"
   ]
  },
  {
   "cell_type": "code",
   "execution_count": null,
   "metadata": {},
   "outputs": [],
   "source": [
    "def plot_everything_for_meta_info(meta_info, lora_rank=None, lora_warmup=None, oles=None, oles_threshold=None, seed=None, start_epoch_for_plots=0):\n",
    "    \"\"\"\n",
    "        Helper function to plot everything for a given meta_info.\n",
    "        Remember that if you provide only the meta-info, it will average\n",
    "        over all the ablation experiments of that type, and not just different seeds of the same experiment.\n",
    "        E.g., DARTS-LoRA-Rank-Ablation will average over all the seeds of the DARTS-LoRA-Rank-Ablation experiments for all the different ranks.\n",
    "    \"\"\"\n",
    "    dfs = get_wandb_runs_as_dfs(\n",
    "        state=\"finished\",\n",
    "        meta_info=meta_info,\n",
    "        lora_rank=lora_rank,\n",
    "        lora_warmup=lora_warmup,\n",
    "        oles=oles,\n",
    "        oles_threshold=oles_threshold,\n",
    "        seed=seed,\n",
    "    )\n",
    "    dfs = clean_dfs(dfs)\n",
    "    mean_df, std_df = calculate_mean_std(*dfs)\n",
    "    plot_everything(mean_df, std_df, meta_info, start_epoch_for_plots)\n"
   ]
  },
  {
   "cell_type": "code",
   "execution_count": null,
   "metadata": {},
   "outputs": [],
   "source": [
    "plot_everything_for_meta_info(meta_infos[7])"
   ]
  },
  {
   "cell_type": "code",
   "execution_count": null,
   "metadata": {},
   "outputs": [],
   "source": [
    "plot_everything_for_meta_info(meta_infos[10], lora_warmup=4)"
   ]
  },
  {
   "cell_type": "code",
   "execution_count": null,
   "metadata": {},
   "outputs": [],
   "source": []
  }
 ],
 "metadata": {
  "kernelspec": {
   "display_name": "confopt",
   "language": "python",
   "name": "python3"
  },
  "language_info": {
   "codemirror_mode": {
    "name": "ipython",
    "version": 3
   },
   "file_extension": ".py",
   "mimetype": "text/x-python",
   "name": "python",
   "nbconvert_exporter": "python",
   "pygments_lexer": "ipython3",
   "version": "3.9.18"
  }
 },
 "nbformat": 4,
 "nbformat_minor": 2
}
