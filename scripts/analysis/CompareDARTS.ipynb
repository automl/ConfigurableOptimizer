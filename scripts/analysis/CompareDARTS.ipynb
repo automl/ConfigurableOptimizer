{
 "cells": [
  {
   "cell_type": "code",
   "execution_count": 27,
   "metadata": {},
   "outputs": [],
   "source": [
    "import os \n",
    "\n",
    "from wandb_utils import (\n",
    "    get_normalized_arch_values_by_edge_df,\n",
    "    get_normalized_arch_values_by_op_df,\n",
    "    get_cell_grad_norm_df,\n",
    "    get_arch_param_grad_norm_df,\n",
    "    get_arch_param_grad_norm_by_edge_df,\n",
    "    get_skip_connections_df,\n",
    "    get_mean_gradient_matching_score_df,\n",
    "    get_benchmark_test_acc_df,\n",
    "    get_layer_alignment_scores_all_cells_df,\n",
    "    get_layer_alignment_scores_first_and_last_cells_df,\n",
    "    get_wandb_runs_as_dfs,\n",
    ")\n",
    "\n",
    "from df_utils import (\n",
    "    calculate_mean_std,\n",
    "    concat_dfs_with_column_prefixes,\n",
    "    clean_dfs,\n",
    "    get_arch_parameters,\n",
    "    get_darts_genotype,\n",
    ")\n",
    "\n",
    "from plot_utils import (\n",
    "    plot_everything,\n",
    "    plot_arch_values_by_edges,\n",
    "    plot_gradient_matching_scores,\n",
    "    plot_benchmark_test_acc,\n",
    "    plot_skip_connections,\n",
    "    plot_layer_alignment_scores,\n",
    "    plot_line_chart_with_std_dev,\n",
    ")\n",
    "\n",
    "import numpy as np\n",
    "import pandas as pd\n",
    "import matplotlib.pyplot as plt"
   ]
  },
  {
   "cell_type": "code",
   "execution_count": 28,
   "metadata": {},
   "outputs": [],
   "source": [
    "meta_infos = {\n",
    "    # DARTS\n",
    "    0: \"'DARTS-Baseline'\",\n",
    "    1: \"DARTS-OLES-Threshold-Ablation\",\n",
    "    2: \"DARTS-LoRA-Rank-Ablation\",\n",
    "    3: \"DARTS-LoRA-Warmup-Ablation\",\n",
    "    # DARTS with pruning at 50%\n",
    "    4: \"'DARTS-Prune-Baseline'\",\n",
    "    5: \"DARTS-Prune-LoRA-Rank-Ablation\",\n",
    "    6: \"DARTS-Prune-LoRA-Warmup-Ablation\",\n",
    "    # DrNAS with partial connections (k=6), pruning at 50%, 8 cells, 36 initial channels, regularization term\n",
    "    7: \"'DrNAS-Baseline'\",\n",
    "    8: \"DrNAS-OLES-Threshold-Ablation\",\n",
    "    9: \"DrNAS-LoRA-Rank-Ablation\",\n",
    "    10: \"DrNAS-LoRA-Warmup-Ablation\",\n",
    "    # DrNAS without progressive learning (no partial connections, no pruning, 8 cells, init channels 16, regularization term)\n",
    "    11: \"'DrNAS-Baseline-Basic'\",\n",
    "    12: \"DrNAS-OLES-Threshold-Ablation-Basic\",\n",
    "    13: \"DrNAS-LoRA-Rank-Ablation-Basic\",\n",
    "    14: \"DrNAS-LoRA-Warmup-Ablation-Basic\",\n",
    "    # DARTS on NB201\n",
    "    15: \"NB201-DARTS-Baseline\",\n",
    "    16: \"NB201-DARTS-OLES\",\n",
    "    17: \"NB201-DARTS-LoRA\",\n",
    "    \n",
    "}"
   ]
  },
  {
   "cell_type": "code",
   "execution_count": null,
   "metadata": {},
   "outputs": [],
   "source": [
    "darts_base_dfs = get_wandb_runs_as_dfs(\n",
    "    state=\"finished\",\n",
    "    meta_info=meta_infos[0],\n",
    "    # lora_rank=1,\n",
    "    # lora_warmup=8,\n",
    "    # oles=True,\n",
    "    # oles_threshold=0.3,\n",
    "    # seed=0,\n",
    ")\n",
    "\n",
    "darts_base_dfs = clean_dfs(darts_base_dfs)\n",
    "darts_base_mean_df, darts_base_std_df = calculate_mean_std(*darts_base_dfs)"
   ]
  },
  {
   "cell_type": "code",
   "execution_count": null,
   "metadata": {},
   "outputs": [],
   "source": [
    "oles_darts_base_dfs = get_wandb_runs_as_dfs(\n",
    "    state=\"finished\",\n",
    "    meta_info=meta_infos[1],\n",
    "    # lora_rank=1,\n",
    "    # lora_warmup=16,\n",
    "    oles=True,\n",
    "    oles_threshold=0.3, # 0.3 for DARTS, 0.7 for NB201\n",
    "    # seed=0,\n",
    ")\n",
    "\n",
    "oles_darts_base_dfs = clean_dfs(oles_darts_base_dfs)\n",
    "oles_darts_base_mean_df, oles_darts_base_std_df = calculate_mean_std(*oles_darts_base_dfs)"
   ]
  },
  {
   "cell_type": "code",
   "execution_count": null,
   "metadata": {},
   "outputs": [],
   "source": [
    "lora_darts_base_dfs = get_wandb_runs_as_dfs(\n",
    "    state=\"finished\",\n",
    "    meta_info=meta_infos[2],\n",
    "    lora_rank=1,\n",
    "    lora_warmup=16,\n",
    "    # oles=True,\n",
    "    # oles_threshold=0.3,\n",
    "    # seed=0,\n",
    ")\n",
    "\n",
    "lora_darts_base_dfs = clean_dfs(lora_darts_base_dfs)\n",
    "lora_darts_base_mean_df, lora_darts_base_std_df = calculate_mean_std(*lora_darts_base_dfs)\n",
    "lora_darts_base_mean_df.shape"
   ]
  },
  {
   "cell_type": "code",
   "execution_count": 30,
   "metadata": {},
   "outputs": [],
   "source": [
    "def fetch_genotypes(\n",
    "        expected_last_epoch,\n",
    "        meta_info,\n",
    "        lora_rank=None,\n",
    "        lora_warmup=None,\n",
    "        oles=None,\n",
    "        oles_threshold=None,\n",
    "        seed=None,\n",
    "):\n",
    "    dfs = get_wandb_runs_as_dfs(\n",
    "        state=\"finished\",\n",
    "        meta_info=meta_info,\n",
    "        lora_rank=lora_rank,\n",
    "        lora_warmup=lora_warmup,\n",
    "        oles=oles,\n",
    "        oles_threshold=oles_threshold,\n",
    "        seed=seed,\n",
    "    )\n",
    "\n",
    "    genotypes = {}\n",
    "    for idx, df in enumerate(dfs):\n",
    "        arch_params = get_arch_parameters(df, has_reduction_cell=True, expected_last_epoch=expected_last_epoch)\n",
    "        genotype = get_darts_genotype(*arch_params)\n",
    "        genotypes[idx] = genotype\n",
    "        print(f\"Genotype {idx}: {genotype}\")\n",
    "\n",
    "    # make a directory with the name of the meta_info\n",
    "    folder = f\"genotypes/{meta_info}\"\n",
    "\n",
    "    os.makedirs(folder)\n",
    "    print(f\"Writing genotypes to {folder}\")\n",
    "    for idx, genotype in genotypes.items():\n",
    "        os.makedirs(f\"{folder}/{idx}\")\n",
    "        with open(f\"{folder}/{idx}/genotype.txt\", \"w\") as f:\n",
    "            f.write(genotype)\n"
   ]
  },
  {
   "cell_type": "code",
   "execution_count": null,
   "metadata": {},
   "outputs": [],
   "source": [
    "fetch_genotypes(\n",
    "    49,\n",
    "    meta_info=meta_infos[2],\n",
    "    lora_rank=1,\n",
    "    lora_warmup=16,\n",
    "    # oles=True,\n",
    "    # oles_threshold=0.3,\n",
    "    # seed=0,\n",
    ")"
   ]
  },
  {
   "cell_type": "code",
   "execution_count": null,
   "metadata": {},
   "outputs": [],
   "source": [
    "fetch_genotypes(\n",
    "    49,\n",
    "    meta_info=meta_infos[1],\n",
    "    # lora_rank=1,\n",
    "    # lora_warmup=16,\n",
    "    oles=True,\n",
    "    oles_threshold=0.3, # 0.3 for DARTS, 0.7 for NB201\n",
    "    # seed=0,\n",
    ")\n"
   ]
  },
  {
   "cell_type": "code",
   "execution_count": null,
   "metadata": {},
   "outputs": [],
   "source": [
    "fetch_genotypes(\n",
    "    49,\n",
    "    meta_info=meta_infos[0],\n",
    "    # lora_rank=1,\n",
    "    # lora_warmup=8,\n",
    "    # oles=True,\n",
    "    # oles_threshold=0.3,\n",
    "    # seed=0,\n",
    ")"
   ]
  },
  {
   "cell_type": "code",
   "execution_count": null,
   "metadata": {},
   "outputs": [],
   "source": [
    "# zero_df = pd.DataFrame(np.zeros(darts_base_std_df.shape), columns=darts_base_std_df.columns, index=darts_base_std_df.index)\n",
    "\n",
    "# seed = 0\n",
    "# edge = 0\n",
    "# for edge in range(14):\n",
    "#     plot_arch_values_by_edges(darts_base_dfs[seed], zero_df, [edge], f\"DARTS-Prune-Baseline-Edge-{edge}\", cell_types=(\"normal\",), ignore_ops=[0])\n",
    "#     # plot_arch_values_by_edges(oles_darts_base_dfs[seed], zero_df, [edge], f\"OLES-DARTS-Edge-{edge}\", cell_types=(\"normal\",),  ignore_ops=[0])\n",
    "#     plot_arch_values_by_edges(lora_darts_base_dfs[seed], zero_df, [edge], f\"LoRA-DARTS-Prune-Edge-{edge}\", cell_types=(\"normal\",),  ignore_ops=[0])"
   ]
  },
  {
   "cell_type": "code",
   "execution_count": null,
   "metadata": {},
   "outputs": [],
   "source": [
    "m = concat_dfs_with_column_prefixes([darts_base_mean_df, oles_darts_base_mean_df, lora_darts_base_mean_df], [\"DARTS-Baseline\", \"OLES-DARTS\", \"LoRA-DARTS\"])\n",
    "s = concat_dfs_with_column_prefixes([darts_base_std_df, oles_darts_base_std_df, lora_darts_base_std_df], [\"DARTS-Baseline\", \"OLES-DARTS\", \"LoRA-DARTS\"])"
   ]
  },
  {
   "cell_type": "code",
   "execution_count": null,
   "metadata": {},
   "outputs": [],
   "source": [
    "# plot_gradient_matching_scores(darts_base_mean_df, darts_base_std_df, \"DARTS-Baseline\")\n",
    "# plot_gradient_matching_scores(oles_darts_base_mean_df, oles_darts_base_std_df, \"OLES-DARTS\")\n",
    "# plot_gradient_matching_scores(lora_darts_base_mean_df, lora_darts_base_std_df, \"LoRA-DARTS\")\n",
    "plot_gradient_matching_scores(m, s, \"Gradient Matching Scores\")"
   ]
  },
  {
   "cell_type": "code",
   "execution_count": null,
   "metadata": {},
   "outputs": [],
   "source": [
    "# plot_skip_connections(darts_base_mean_df, darts_base_std_df, \"DARTS-Baseline\")\n",
    "# plot_skip_connections(oles_darts_base_mean_df, oles_darts_base_std_df, \"OLES-DARTS\")\n",
    "# plot_skip_connections(lora_darts_base_mean_df, lora_darts_base_std_df, \"LoRA-DARTS\")\n",
    "plot_skip_connections(m, s, \"Skip Connections\")"
   ]
  },
  {
   "cell_type": "code",
   "execution_count": null,
   "metadata": {},
   "outputs": [],
   "source": [
    "# plot_benchmark_test_acc(darts_base_mean_df, darts_base_std_df, \"DARTS-Baseline\")\n",
    "# plot_benchmark_test_acc(lora_darts_base_mean_df, lora_darts_base_std_df, \"LoRA-DARTS\")\n",
    "# plot_benchmark_test_acc(oles_darts_base_mean_df, oles_darts_base_std_df, \"OLES-LoRA-DARTS\")\n",
    "plot_benchmark_test_acc(m, s, \"Benchmark Test Accuracy\")"
   ]
  },
  {
   "cell_type": "code",
   "execution_count": null,
   "metadata": {},
   "outputs": [],
   "source": [
    "plot_layer_alignment_scores(m, s, \"Layer Alignment Scores\")"
   ]
  }
 ],
 "metadata": {
  "kernelspec": {
   "display_name": "confopt",
   "language": "python",
   "name": "python3"
  },
  "language_info": {
   "codemirror_mode": {
    "name": "ipython",
    "version": 3
   },
   "file_extension": ".py",
   "mimetype": "text/x-python",
   "name": "python",
   "nbconvert_exporter": "python",
   "pygments_lexer": "ipython3",
   "version": "3.9.18"
  }
 },
 "nbformat": 4,
 "nbformat_minor": 2
}
