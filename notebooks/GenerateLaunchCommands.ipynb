{
 "cells": [
  {
   "cell_type": "code",
   "execution_count": null,
   "metadata": {},
   "outputs": [],
   "source": [
    "optimizers = (\"darts\", \"drnas\", \"gdas\")\n",
    "opsets = (\"regular\", \"all_skip\", \"no_skip\")\n",
    "spaces = (\"wide\", \"deep\", \"single_cell\")\n",
    "extras = (\"\", \"--oles True\", \"--fairdarts True\", \"--sdarts random\")\n",
    "seed = 9001\n",
    "dataset = \"cifar10_supernet\"\n",
    "tag = \"dry-run\"\n",
    "\n",
    "\n",
    "print(\"#!/bin/bash\\n\")\n",
    "\n",
    "for opt in optimizers:\n",
    "    for opset in opsets:\n",
    "        for space in spaces:\n",
    "\n",
    "            cmd = f\"python launch_supernet_search.py --dryrun True --seeds {seed} --dataset {dataset} --tag {tag} --optimizer {opt} --subspace {space} --ops {opset}\"\n",
    "            \n",
    "            if opt == \"darts\":\n",
    "                for extra in extras:\n",
    "                    print(f\"{cmd} {extra} & sleep 5\")\n",
    "\n",
    "                continue\n",
    "\n",
    "            print(f\"{cmd} & sleep 5\")\n"
   ]
  }
 ],
 "metadata": {
  "kernelspec": {
   "display_name": "confopt",
   "language": "python",
   "name": "python3"
  },
  "language_info": {
   "codemirror_mode": {
    "name": "ipython",
    "version": 3
   },
   "file_extension": ".py",
   "mimetype": "text/x-python",
   "name": "python",
   "nbconvert_exporter": "python",
   "pygments_lexer": "ipython3",
   "version": "3.9.18"
  }
 },
 "nbformat": 4,
 "nbformat_minor": 2
}
