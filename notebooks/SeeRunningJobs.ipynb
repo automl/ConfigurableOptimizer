{
 "cells": [
  {
   "cell_type": "code",
   "execution_count": null,
   "metadata": {},
   "outputs": [],
   "source": [
    "import wandb\n",
    "\n",
    "def get_run_ids_with_filter(entity, project, filter_dict):\n",
    "    \"\"\"\n",
    "    Retrieve the run IDs for all runs in a project that match the given filter.\n",
    "\n",
    "    Args:\n",
    "        entity (str): The W&B entity (username or team).\n",
    "        project (str): The name of the W&B project.\n",
    "        filter_dict (dict): A dictionary defining the filter criteria.\n",
    "            For example: {\"config.learning_rate\": 0.001}\n",
    "    \n",
    "    Returns:\n",
    "        list: A list of run IDs that match the filter.\n",
    "    \"\"\"\n",
    "    api = wandb.Api()\n",
    "    runs = api.runs(f\"{entity}/{project}\", filters=filter_dict)\n",
    "    run_ids = [run.id for run in runs]\n",
    "    run_names = [run.name for run in runs]\n",
    "    return run_ids, run_names\n",
    "\n",
    "def pull_run_data(run_id, entity=\"confopt-team\", project=\"ConfoptAutoML25\"):\n",
    "    \"\"\"\n",
    "    Pull data from a W&B run given the entity, project, and run_id.\n",
    "    \n",
    "    Args:\n",
    "        entity (str): The W&B entity (username or team).\n",
    "        project (str): The name of the W&B project.\n",
    "        run_id (str): The run identifier.\n",
    "    \n",
    "    Returns:\n",
    "        dict: A dictionary containing the run summary, config, and history (as a pandas DataFrame).\n",
    "    \"\"\"\n",
    "    api = wandb.Api()\n",
    "    run_path = f\"{entity}/{project}/{run_id}\"\n",
    "    try:\n",
    "        run = api.run(run_path)\n",
    "    except Exception as e:\n",
    "        print(f\"Error retrieving run: {e}\")\n",
    "        return None\n",
    "\n",
    "    # Retrieve summary metrics (as a dict)\n",
    "    summary = run.summary._json_dict\n",
    "\n",
    "    # Retrieve configuration used for the run\n",
    "    config = run.config\n",
    "\n",
    "    # Retrieve run history (logged metrics) as a pandas DataFrame\n",
    "    history = run.history(pandas=True)\n",
    "\n",
    "    return {\"summary\": summary, \"config\": config, \"history\": history, \"run_name\": run.name}"
   ]
  },
  {
   "cell_type": "code",
   "execution_count": null,
   "metadata": {},
   "outputs": [],
   "source": [
    "# Replace these with your actual values\n",
    "entity = \"confopt-team\"\n",
    "project = \"ConfoptAutoML25\"\n",
    "\n",
    "# Define your filter. For example, filtering runs with a specific learning rate.\n",
    "filter_dict = {\n",
    "    # \"config.benchmark\": \"deep-regular\",\n",
    "    # \"config.dataset\": \"cifar10\",\n",
    "    # \"config.sampler_type\": \"darts\",\n",
    "    \"state\": \"running\",\n",
    "}\n",
    "\n",
    "# Retrieve the run IDs matching the filter\n",
    "matching_run_ids, matching_run_names = get_run_ids_with_filter(entity, project, filter_dict)\n",
    "print(f\"Matching run IDs: {matching_run_ids}\")\n",
    "print(f\"Matching run names: {matching_run_names}\")\n"
   ]
  },
  {
   "cell_type": "code",
   "execution_count": null,
   "metadata": {},
   "outputs": [],
   "source": [
    "datas = dict()\n",
    "\n",
    "for run_id, run_name in zip(matching_run_ids, matching_run_names):\n",
    "    data = pull_run_data(run_id)\n",
    "    datas[run_id] = data\n"
   ]
  },
  {
   "cell_type": "code",
   "execution_count": null,
   "metadata": {},
   "outputs": [],
   "source": [
    "datas.keys()"
   ]
  },
  {
   "cell_type": "code",
   "execution_count": null,
   "metadata": {},
   "outputs": [],
   "source": [
    "for run_id, data in datas.items():\n",
    "    run_name = data[\"run_name\"]\n",
    "    summary = data[\"summary\"]\n",
    "    config = data[\"config\"]\n",
    "\n",
    "    runtime = summary[\"_runtime\"]\n",
    "    epoch = summary[\"_step\"]\n",
    "    time_per_epoch = runtime / epoch\n",
    "\n",
    "    total_epochs = config[\"trainer\"][\"epochs\"]\n",
    "    time_left = (total_epochs - epoch) * time_per_epoch\n",
    "    will_finish = (total_epochs - epoch) * time_per_epoch + runtime < 24 * 3600\n",
    "\n",
    "    print(f\"Run ID: {run_id}, time per epoch: {time_per_epoch:7.2f} \\truntime: {runtime:8.02f}\\tepoch: {epoch:3}/{total_epochs:3} \\ttime left: {time_left/3600:6.2f} \\twill finish: {will_finish} \\trun_name: {run_name}\")"
   ]
  },
  {
   "cell_type": "code",
   "execution_count": null,
   "metadata": {},
   "outputs": [],
   "source": []
  }
 ],
 "metadata": {
  "kernelspec": {
   "display_name": "confopt",
   "language": "python",
   "name": "python3"
  },
  "language_info": {
   "codemirror_mode": {
    "name": "ipython",
    "version": 3
   },
   "file_extension": ".py",
   "mimetype": "text/x-python",
   "name": "python",
   "nbconvert_exporter": "python",
   "pygments_lexer": "ipython3",
   "version": "3.9.18"
  }
 },
 "nbformat": 4,
 "nbformat_minor": 2
}
